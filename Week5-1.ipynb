{
 "cells": [
  {
   "cell_type": "code",
   "execution_count": 1,
   "metadata": {},
   "outputs": [],
   "source": [
    "import folium"
   ]
  },
  {
   "cell_type": "code",
   "execution_count": 2,
   "metadata": {},
   "outputs": [],
   "source": [
    "import pandas as pd\n",
    "from pandas import Series,DataFrame"
   ]
  },
  {
   "cell_type": "markdown",
   "metadata": {},
   "source": [
    "Making a Map around Tokyo Station"
   ]
  },
  {
   "cell_type": "code",
   "execution_count": 3,
   "metadata": {},
   "outputs": [
    {
     "data": {
      "text/html": [
       "<div style=\"width:100%;\"><div style=\"position:relative;width:100%;height:0;padding-bottom:60%;\"><iframe src=\"data:text/html;charset=utf-8;base64,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\" style=\"position:absolute;width:100%;height:100%;left:0;top:0;border:none !important;\" allowfullscreen webkitallowfullscreen mozallowfullscreen></iframe></div></div>"
      ],
      "text/plain": [
       "<folium.folium.Map at 0x120cc1e80>"
      ]
     },
     "execution_count": 3,
     "metadata": {},
     "output_type": "execute_result"
    }
   ],
   "source": [
    "test_map  = folium.Map(\n",
    "    location=[35.681236, 139.75508], #新しい地図を作るときの中央にくる緯度と経度を入れます\n",
    "    zoom_start=13.3) #はじめに表示するときの縮尺を設定します。\n",
    "\n",
    "test_map"
   ]
  },
  {
   "cell_type": "markdown",
   "metadata": {},
   "source": [
    "Making a Table of Starbucks Coffee Shop around Tokyo Station"
   ]
  },
  {
   "cell_type": "code",
   "execution_count": 4,
   "metadata": {},
   "outputs": [
    {
     "data": {
      "text/html": [
       "<div>\n",
       "<style scoped>\n",
       "    .dataframe tbody tr th:only-of-type {\n",
       "        vertical-align: middle;\n",
       "    }\n",
       "\n",
       "    .dataframe tbody tr th {\n",
       "        vertical-align: top;\n",
       "    }\n",
       "\n",
       "    .dataframe thead th {\n",
       "        text-align: right;\n",
       "    }\n",
       "</style>\n",
       "<table border=\"1\" class=\"dataframe\">\n",
       "  <thead>\n",
       "    <tr style=\"text-align: right;\">\n",
       "      <th></th>\n",
       "      <th>0</th>\n",
       "      <th>1</th>\n",
       "      <th>2</th>\n",
       "    </tr>\n",
       "  </thead>\n",
       "  <tbody>\n",
       "    <tr>\n",
       "      <th>0</th>\n",
       "      <td>日本橋高島屋S.C.店</td>\n",
       "      <td>35.681370</td>\n",
       "      <td>139.773619</td>\n",
       "    </tr>\n",
       "    <tr>\n",
       "      <th>1</th>\n",
       "      <td>東京駅八重洲南口店</td>\n",
       "      <td>35.778150</td>\n",
       "      <td>139.768892</td>\n",
       "    </tr>\n",
       "    <tr>\n",
       "      <th>2</th>\n",
       "      <td>東京駅八重洲北口店</td>\n",
       "      <td>35.682500</td>\n",
       "      <td>139.768892</td>\n",
       "    </tr>\n",
       "    <tr>\n",
       "      <th>3</th>\n",
       "      <td>有楽町ビル1階店</td>\n",
       "      <td>35.674923</td>\n",
       "      <td>139.761827</td>\n",
       "    </tr>\n",
       "    <tr>\n",
       "      <th>4</th>\n",
       "      <td>東京駅日本橋口店</td>\n",
       "      <td>35.683109</td>\n",
       "      <td>139.769121</td>\n",
       "    </tr>\n",
       "    <tr>\n",
       "      <th>5</th>\n",
       "      <td>秋葉原駅前店</td>\n",
       "      <td>35.697823</td>\n",
       "      <td>139.773696</td>\n",
       "    </tr>\n",
       "    <tr>\n",
       "      <th>6</th>\n",
       "      <td>防衛省店</td>\n",
       "      <td>35.693789</td>\n",
       "      <td>139.729129</td>\n",
       "    </tr>\n",
       "    <tr>\n",
       "      <th>7</th>\n",
       "      <td>銀座松屋通り店</td>\n",
       "      <td>35.671691</td>\n",
       "      <td>139.766603</td>\n",
       "    </tr>\n",
       "    <tr>\n",
       "      <th>8</th>\n",
       "      <td>銀座シックス店</td>\n",
       "      <td>35.669650</td>\n",
       "      <td>139.764722</td>\n",
       "    </tr>\n",
       "    <tr>\n",
       "      <th>9</th>\n",
       "      <td>大手町プレイス店</td>\n",
       "      <td>35.686844</td>\n",
       "      <td>139.766833</td>\n",
       "    </tr>\n",
       "    <tr>\n",
       "      <th>10</th>\n",
       "      <td>東京ドームシティ ラクーア店</td>\n",
       "      <td>35.706873</td>\n",
       "      <td>139.752662</td>\n",
       "    </tr>\n",
       "    <tr>\n",
       "      <th>11</th>\n",
       "      <td>アークヒルズサウスタワー店</td>\n",
       "      <td>35.665427</td>\n",
       "      <td>139.739437</td>\n",
       "    </tr>\n",
       "    <tr>\n",
       "      <th>12</th>\n",
       "      <td>Tokyo Midtown Shop</td>\n",
       "      <td>35.665015</td>\n",
       "      <td>139.730772</td>\n",
       "    </tr>\n",
       "  </tbody>\n",
       "</table>\n",
       "</div>"
      ],
      "text/plain": [
       "                     0          1           2\n",
       "0          日本橋高島屋S.C.店  35.681370  139.773619\n",
       "1            東京駅八重洲南口店  35.778150  139.768892\n",
       "2            東京駅八重洲北口店  35.682500  139.768892\n",
       "3             有楽町ビル1階店  35.674923  139.761827\n",
       "4             東京駅日本橋口店  35.683109  139.769121\n",
       "5               秋葉原駅前店  35.697823  139.773696\n",
       "6                 防衛省店  35.693789  139.729129\n",
       "7              銀座松屋通り店  35.671691  139.766603\n",
       "8              銀座シックス店  35.669650  139.764722\n",
       "9             大手町プレイス店  35.686844  139.766833\n",
       "10      東京ドームシティ ラクーア店  35.706873  139.752662\n",
       "11       アークヒルズサウスタワー店  35.665427  139.739437\n",
       "12  Tokyo Midtown Shop  35.665015  139.730772"
      ]
     },
     "execution_count": 4,
     "metadata": {},
     "output_type": "execute_result"
    }
   ],
   "source": [
    "yamanote = pd.read_clipboard(sep=\",\",header=None)\n",
    "\n",
    "yamanote"
   ]
  },
  {
   "cell_type": "code",
   "execution_count": 5,
   "metadata": {},
   "outputs": [],
   "source": [
    "yamanote = yamanote.rename(columns={\n",
    "    0:\"shop\", #駅名\n",
    "    1:\"lat\", #緯度の英語であるlatitudeの略で、lat\n",
    "    2:\"long\" #緯度の英語であるlatitudeの略で、longitudeの略で、long\n",
    "})"
   ]
  },
  {
   "cell_type": "code",
   "execution_count": 6,
   "metadata": {},
   "outputs": [
    {
     "name": "stdout",
     "output_type": "stream",
     "text": [
      "13\n"
     ]
    }
   ],
   "source": [
    "print(len(yamanote))"
   ]
  },
  {
   "cell_type": "markdown",
   "metadata": {},
   "source": [
    "Making a Mark of Shop Based on the Table"
   ]
  },
  {
   "cell_type": "code",
   "execution_count": 7,
   "metadata": {},
   "outputs": [
    {
     "data": {
      "text/html": [
       "<div style=\"width:100%;\"><div style=\"position:relative;width:100%;height:0;padding-bottom:60%;\"><iframe src=\"data:text/html;charset=utf-8;base64,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\" style=\"position:absolute;width:100%;height:100%;left:0;top:0;border:none !important;\" allowfullscreen webkitallowfullscreen mozallowfullscreen></iframe></div></div>"
      ],
      "text/plain": [
       "<folium.folium.Map at 0x120cc1e80>"
      ]
     },
     "execution_count": 7,
     "metadata": {},
     "output_type": "execute_result"
    }
   ],
   "source": [
    "for i in range(13):  #rangeには上記の30を入れます。range(len(kanjo))ってやってもOKで、その方が便利です。\n",
    "    pin = [yamanote[\"lat\"][i], yamanote[\"long\"][i]] #pinに緯度と経度を入れます\n",
    "    folium.Marker(pin,\n",
    "                  icon=folium.Icon(color=\"darkblue\",\n",
    "                                   icon = \"flag\")).add_to(test_map)\n",
    "    \n",
    "test_map"
   ]
  },
  {
   "cell_type": "code",
   "execution_count": null,
   "metadata": {},
   "outputs": [],
   "source": []
  }
 ],
 "metadata": {
  "kernelspec": {
   "display_name": "Python 3",
   "language": "python",
   "name": "python3"
  },
  "language_info": {
   "codemirror_mode": {
    "name": "ipython",
    "version": 3
   },
   "file_extension": ".py",
   "mimetype": "text/x-python",
   "name": "python",
   "nbconvert_exporter": "python",
   "pygments_lexer": "ipython3",
   "version": "3.7.1"
  }
 },
 "nbformat": 4,
 "nbformat_minor": 2
}
